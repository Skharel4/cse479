{
 "cells": [
  {
   "cell_type": "code",
   "execution_count": null,
   "id": "cc1dddc5-3d72-4a15-bd09-0b22aae7598c",
   "metadata": {},
   "outputs": [],
   "source": [
    "import util\n",
    "\n",
    "train_ds,val_ds = util.get_train_val_set()"
   ]
  },
  {
   "cell_type": "code",
   "execution_count": null,
   "id": "df4046d6-ab5d-442f-affb-42130d9b7b0c",
   "metadata": {},
   "outputs": [],
   "source": [
    "for data in train_ds.take(1):\n",
    "    print(data['image'].shape)"
   ]
  },
  {
   "cell_type": "code",
   "execution_count": null,
   "id": "38fbe0eb-acd4-40ed-a788-c353bc033e88",
   "metadata": {},
   "outputs": [],
   "source": [
    "def preprocess_data(data):\n",
    "    image = tf.cast(data['image'],tf.float32)/255.0 \n",
    "    label = tf.one_hot(data['label'],100)\n",
    "    return image,label"
   ]
  },
  {
   "cell_type": "code",
   "execution_count": null,
   "id": "b4e9f4b5-7747-4626-bfbf-4e85d72f9a78",
   "metadata": {},
   "outputs": [],
   "source": []
  },
  {
   "cell_type": "code",
   "execution_count": null,
   "id": "f8d342a1-1433-4ae0-b10d-550c5be13fee",
   "metadata": {},
   "outputs": [],
   "source": [
    "def augment_data(images,labels):\n",
    "    images = tf.image.random_flip_left_right(images)\n",
    "    images = tf.image.random_flip_up_down(images)\n",
    "    images = tf.image.rot90(images)\n",
    "    return (images, labels)"
   ]
  },
  {
   "cell_type": "code",
   "execution_count": null,
   "id": "f20483b3-3d05-48fa-bca2-c7d12b82b40a",
   "metadata": {},
   "outputs": [],
   "source": [
    "train = train_ds.map(preprocess_data).batch(32).map(augment_data)\n",
    "val = val_ds.map(preprocess_data).batch(32)"
   ]
  },
  {
   "cell_type": "code",
   "execution_count": null,
   "id": "fdd50d21-1942-4ec0-be41-3fef6d963df5",
   "metadata": {},
   "outputs": [],
   "source": [
    "%autoreload 2\n",
    "import model \n",
    "exp_model = model.vanilla_model()"
   ]
  },
  {
   "cell_type": "code",
   "execution_count": null,
   "id": "8cf641b0-8ff9-430a-ad7d-79535dc76738",
   "metadata": {},
   "outputs": [],
   "source": [
    "optimizer = tf.keras.optimizers.Adam(learning_rate=0.01)\n",
    "loss_fn = tf.keras.losses.CategoricalCrossentropy(from_logits=False)\n",
    "early_stopping = tf.keras.callbacks.EarlyStopping(patience=5, monitor=\"val_loss\",restore_best_weights=True,start_from_epoch=10)\n",
    "\n",
    "exp_model.compile(optimizer=optimizer,loss=loss_fn)"
   ]
  },
  {
   "cell_type": "code",
   "execution_count": null,
   "id": "15add207-a3f0-439a-a4c4-93f65b9dd44d",
   "metadata": {},
   "outputs": [],
   "source": [
    "history = exp_model.fit(train, epochs=1, validation_data=val, callbacks=[early_stopping])"
   ]
  },
  {
   "cell_type": "code",
   "execution_count": null,
   "id": "5b458f6c-601b-47f2-9066-81219cc5fc90",
   "metadata": {},
   "outputs": [],
   "source": [
    "plt.plot(history.history['loss'],label=\"training_loss\")\n",
    "plt.show()"
   ]
  },
  {
   "cell_type": "code",
   "execution_count": null,
   "id": "526fb143-49c6-44ae-9c41-9a09f0745a66",
   "metadata": {},
   "outputs": [],
   "source": [
    "predictions = exp_model.predict(val)\n",
    "\n"
   ]
  },
  {
   "cell_type": "code",
   "execution_count": null,
   "id": "8ad9b943-73c5-4c4f-ad11-f0519f6d239b",
   "metadata": {},
   "outputs": [],
   "source": [
    "predictions = predictions.argmax(axis=-1)"
   ]
  },
  {
   "cell_type": "code",
   "execution_count": null,
   "id": "a5fd1f3b-43b5-41ee-964e-f6d1005b78fd",
   "metadata": {},
   "outputs": [],
   "source": [
    "truth = tf.argmax(tf.concat([labels for _,labels in val],axis=0),axis=-1)\n",
    "truth.shape\n"
   ]
  },
  {
   "cell_type": "code",
   "execution_count": null,
   "id": "bfc87a9e-8c73-449b-a23c-73f033d283c2",
   "metadata": {},
   "outputs": [],
   "source": [
    "from sklearn.metrics import accuracy_score \n",
    "\n",
    "accuracy_score(truth,predictions)"
   ]
  },
  {
   "cell_type": "code",
   "execution_count": null,
   "id": "8755c8fb-24bc-434a-be32-4dea9f23ae28",
   "metadata": {},
   "outputs": [],
   "source": [
    "import os\n",
    "os.makedirs(\"./results\",exist_ok=True)"
   ]
  },
  {
   "cell_type": "code",
   "execution_count": null,
   "id": "1d63f1eb-a4be-427f-aabe-73bb62122810",
   "metadata": {},
   "outputs": [],
   "source": [
    "import datetime"
   ]
  },
  {
   "cell_type": "code",
   "execution_count": null,
   "id": "c86c192c-e084-47ba-a978-02f58cc9c388",
   "metadata": {},
   "outputs": [],
   "source": [
    "datetime.datetime.now().strftime(\"%Y%m%d%H%M%S\")"
   ]
  },
  {
   "cell_type": "code",
   "execution_count": null,
   "id": "795e25c5-0608-4d28-9c7b-3597c6751783",
   "metadata": {},
   "outputs": [],
   "source": [
    "import json\n",
    "json.dump([10,20],open(\"./hyp.json\",\"w\"))"
   ]
  },
  {
   "cell_type": "code",
   "execution_count": null,
   "id": "213c694f-d109-462b-8a0e-e998cddcaaa5",
   "metadata": {},
   "outputs": [],
   "source": [
    "exp_model.save(\"best.keras\")\n"
   ]
  },
  {
   "cell_type": "code",
   "execution_count": null,
   "id": "5f619379-c8b3-4f51-90fe-b2c0639895de",
   "metadata": {},
   "outputs": [],
   "source": [
    "\n",
    "ex = tf.keras.models.load_model(\"./best.keras\")"
   ]
  },
  {
   "cell_type": "code",
   "execution_count": null,
   "id": "c858aca2-7108-41a2-83b7-1fc065a8b67d",
   "metadata": {},
   "outputs": [],
   "source": [
    "import util\n",
    "util.evaluate(ex,val)"
   ]
  },
  {
   "cell_type": "code",
   "execution_count": null,
   "id": "ab9b5991-b992-40e7-a456-5e7a064fedb2",
   "metadata": {},
   "outputs": [],
   "source": [
    "%run main.py\n"
   ]
  },
  {
   "cell_type": "code",
   "execution_count": null,
   "id": "606c7136-acef-4ab3-84f3-e9cefd892a51",
   "metadata": {},
   "outputs": [],
   "source": [
    "test_model = tf.keras.models.load_model(\"./results/20241017175007/best.keras\")"
   ]
  },
  {
   "cell_type": "code",
   "execution_count": null,
   "id": "e4c9429c-595d-4456-9a82-a522352ce5a5",
   "metadata": {},
   "outputs": [],
   "source": [
    "%load_ext autoreload\n",
    "%autoreload 2"
   ]
  },
  {
   "cell_type": "code",
   "execution_count": null,
   "id": "53585103-5f10-43f5-8022-9543256b56e1",
   "metadata": {},
   "outputs": [],
   "source": [
    "import util\n",
    "\n",
    "util.evaluate_on_test(test_model,top_k=5)"
   ]
  },
  {
   "cell_type": "code",
   "execution_count": null,
   "id": "cc02eaa3-e48a-49f8-bf02-329aca05b279",
   "metadata": {},
   "outputs": [],
   "source": [
    "test_ds = test_set.map(util.preprocess_data).batch(1)"
   ]
  },
  {
   "cell_type": "code",
   "execution_count": null,
   "id": "d82e9e57-719b-4660-85f0-048ff84358d2",
   "metadata": {},
   "outputs": [],
   "source": [
    "predictions = test_model.predict(test_ds)\n"
   ]
  },
  {
   "cell_type": "code",
   "execution_count": null,
   "id": "a085fc72-abf7-4348-ba65-df27e0e29202",
   "metadata": {},
   "outputs": [],
   "source": [
    "truth = tf.concat([tf.math.argmax(y,axis=-1) for _, y in test_ds], axis=0)"
   ]
  },
  {
   "cell_type": "code",
   "execution_count": null,
   "id": "8ba854ce-f6ba-43fb-95ca-99e67f402c27",
   "metadata": {},
   "outputs": [],
   "source": [
    "truth.shape"
   ]
  },
  {
   "cell_type": "code",
   "execution_count": null,
   "id": "537e1fea-ad9e-4ba8-91fc-819a979be74a",
   "metadata": {},
   "outputs": [],
   "source": [
    "from sklearn.metrics import top_k_accuracy_score\n",
    "\n",
    "top_k_accuracy_score(truth, predictions,k=5)"
   ]
  },
  {
   "cell_type": "code",
   "execution_count": null,
   "id": "8f0c7627-fa33-463d-92f4-89194372b699",
   "metadata": {},
   "outputs": [],
   "source": [
    "tf.__version__"
   ]
  },
  {
   "cell_type": "code",
   "execution_count": null,
   "id": "d7ee3824-9de0-4258-9d1c-3bc06d8bacd3",
   "metadata": {},
   "outputs": [],
   "source": [
    "%load_ext autoreload\n",
    "%autoreload 2"
   ]
  },
  {
   "cell_type": "code",
   "execution_count": 1,
   "id": "34366624-d950-4466-a162-50554965a514",
   "metadata": {},
   "outputs": [
    {
     "name": "stderr",
     "output_type": "stream",
     "text": [
      "2024-10-17 19:36:24.123551: I tensorflow/core/platform/cpu_feature_guard.cc:142] This TensorFlow binary is optimized with oneAPI Deep Neural Network Library (oneDNN) to use the following CPU instructions in performance-critical operations:  SSE4.1 SSE4.2 AVX AVX2 AVX512F FMA\n",
      "To enable them in other operations, rebuild TensorFlow with the appropriate compiler flags.\n",
      "2024-10-17 19:36:25.386202: I tensorflow/core/common_runtime/gpu/gpu_device.cc:1510] Created device /job:localhost/replica:0/task:0/device:GPU:0 with 30972 MB memory:  -> device: 0, name: Tesla V100-PCIE-32GB, pci bus id: 0000:5e:00.0, compute capability: 7.0\n",
      "2024-10-17 19:36:26.645648: I tensorflow/compiler/mlir/mlir_graph_optimization_pass.cc:185] None of the MLIR Optimization Passes are enabled (registered 2)\n"
     ]
    },
    {
     "name": "stdout",
     "output_type": "stream",
     "text": [
      "Epoch 1/100\n"
     ]
    },
    {
     "name": "stderr",
     "output_type": "stream",
     "text": [
      "2024-10-17 19:36:28.133488: I tensorflow/stream_executor/cuda/cuda_dnn.cc:369] Loaded cuDNN version 8902\n",
      "2024-10-17 19:36:28.423116: I tensorflow/core/platform/default/subprocess.cc:304] Start cannot spawn child process: No such file or directory\n",
      "2024-10-17 19:36:28.423799: I tensorflow/core/platform/default/subprocess.cc:304] Start cannot spawn child process: No such file or directory\n",
      "2024-10-17 19:36:28.423814: W tensorflow/stream_executor/gpu/asm_compiler.cc:77] Couldn't get ptxas version string: Internal: Couldn't invoke ptxas --version\n",
      "2024-10-17 19:36:28.424237: I tensorflow/core/platform/default/subprocess.cc:304] Start cannot spawn child process: No such file or directory\n",
      "2024-10-17 19:36:28.424287: W tensorflow/stream_executor/gpu/redzone_allocator.cc:314] Internal: Failed to launch ptxas\n",
      "Relying on driver to perform ptx compilation. \n",
      "Modify $PATH to customize ptxas location.\n",
      "This message will be only logged once.\n"
     ]
    },
    {
     "name": "stdout",
     "output_type": "stream",
     "text": [
      "1250/1250 [==============================] - 9s 4ms/step - loss: 4.1976 - val_loss: 4.1633\n",
      "Epoch 2/100\n",
      "1250/1250 [==============================] - 5s 4ms/step - loss: 3.7379 - val_loss: 4.1230\n",
      "Epoch 3/100\n",
      "1250/1250 [==============================] - 5s 4ms/step - loss: 3.4891 - val_loss: 4.1349\n",
      "Epoch 4/100\n",
      "1250/1250 [==============================] - 5s 4ms/step - loss: 3.3396 - val_loss: 4.1195\n",
      "Epoch 5/100\n",
      "1250/1250 [==============================] - 5s 4ms/step - loss: 3.2248 - val_loss: 4.0959\n",
      "Epoch 6/100\n",
      "1250/1250 [==============================] - 5s 4ms/step - loss: 3.1293 - val_loss: 4.0567\n",
      "Epoch 7/100\n",
      "1250/1250 [==============================] - 5s 4ms/step - loss: 3.0408 - val_loss: 4.0379\n",
      "Epoch 8/100\n",
      "1250/1250 [==============================] - 5s 4ms/step - loss: 2.9571 - val_loss: 3.9774\n",
      "Epoch 9/100\n",
      "1250/1250 [==============================] - 5s 4ms/step - loss: 2.8840 - val_loss: 3.9414\n",
      "Epoch 10/100\n",
      "1250/1250 [==============================] - 5s 4ms/step - loss: 2.8204 - val_loss: 3.9287\n",
      "Epoch 11/100\n",
      "1250/1250 [==============================] - 5s 4ms/step - loss: 2.7653 - val_loss: 3.9268\n",
      "Epoch 12/100\n",
      "1250/1250 [==============================] - 5s 4ms/step - loss: 2.7200 - val_loss: 3.9021\n",
      "Epoch 13/100\n",
      "1250/1250 [==============================] - 5s 4ms/step - loss: 2.6805 - val_loss: 3.9146\n",
      "Epoch 14/100\n",
      "1250/1250 [==============================] - 5s 4ms/step - loss: 2.6376 - val_loss: 3.9089\n",
      "Epoch 15/100\n",
      "1250/1250 [==============================] - 5s 4ms/step - loss: 2.6053 - val_loss: 3.9406\n",
      "Epoch 16/100\n",
      "1250/1250 [==============================] - 5s 4ms/step - loss: 2.5720 - val_loss: 3.9273\n",
      "Epoch 17/100\n",
      "1250/1250 [==============================] - 5s 4ms/step - loss: 2.5420 - val_loss: 3.9567\n",
      "Epoch 18/100\n",
      "1250/1250 [==============================] - 5s 4ms/step - loss: 2.5172 - val_loss: 3.9431\n",
      "Epoch 19/100\n",
      "1250/1250 [==============================] - 5s 4ms/step - loss: 2.4848 - val_loss: 3.9606\n",
      "Epoch 20/100\n",
      "1250/1250 [==============================] - 5s 4ms/step - loss: 2.4619 - val_loss: 3.9788\n",
      "Epoch 21/100\n",
      "1250/1250 [==============================] - 5s 4ms/step - loss: 2.4317 - val_loss: 3.9897\n",
      "Epoch 22/100\n",
      "1250/1250 [==============================] - 5s 4ms/step - loss: 2.4079 - val_loss: 4.0258\n",
      "Best model\n",
      "   val_acc    val_f1          folder  batch_size  learning_rate\n",
      "0    0.389  0.145503  20241017193626          32         0.0001\n",
      "Accuracy(top-5) and F1 for best model\n",
      "0.3875 0.14378647085993804\n"
     ]
    }
   ],
   "source": [
    "%run main.py"
   ]
  },
  {
   "cell_type": "code",
   "execution_count": 2,
   "id": "ef4c9cc2-1471-4a3f-807e-4209ef092c5f",
   "metadata": {},
   "outputs": [
    {
     "name": "stdout",
     "output_type": "stream",
     "text": [
      "Model: \"sequential\"\n",
      "_________________________________________________________________\n",
      "Layer (type)                 Output Shape              Param #   \n",
      "=================================================================\n",
      "conv2d (Conv2D)              (None, 32, 32, 256)       7168      \n",
      "_________________________________________________________________\n",
      "max_pooling2d (MaxPooling2D) (None, 16, 16, 256)       0         \n",
      "_________________________________________________________________\n",
      "conv2d_1 (Conv2D)            (None, 16, 16, 128)       295040    \n",
      "_________________________________________________________________\n",
      "max_pooling2d_1 (MaxPooling2 (None, 8, 8, 128)         0         \n",
      "_________________________________________________________________\n",
      "conv2d_2 (Conv2D)            (None, 8, 8, 64)          73792     \n",
      "_________________________________________________________________\n",
      "conv2d_3 (Conv2D)            (None, 8, 8, 32)          18464     \n",
      "_________________________________________________________________\n",
      "max_pooling2d_2 (MaxPooling2 (None, 4, 4, 32)          0         \n",
      "_________________________________________________________________\n",
      "conv2d_4 (Conv2D)            (None, 4, 4, 16)          4624      \n",
      "_________________________________________________________________\n",
      "conv2d_5 (Conv2D)            (None, 4, 4, 8)           1160      \n",
      "_________________________________________________________________\n",
      "flatten (Flatten)            (None, 128)               0         \n",
      "_________________________________________________________________\n",
      "dense (Dense)                (None, 100)               12900     \n",
      "_________________________________________________________________\n",
      "dense_1 (Dense)              (None, 100)               10100     \n",
      "_________________________________________________________________\n",
      "dense_2 (Dense)              (None, 100)               10100     \n",
      "=================================================================\n",
      "Total params: 433,348\n",
      "Trainable params: 433,348\n",
      "Non-trainable params: 0\n",
      "_________________________________________________________________\n"
     ]
    }
   ],
   "source": [
    "best_model.summary()"
   ]
  },
  {
   "cell_type": "code",
   "execution_count": null,
   "id": "6acb5b4c-2613-483a-ac7b-88a8ad5f9c54",
   "metadata": {},
   "outputs": [],
   "source": []
  }
 ],
 "metadata": {
  "kernelspec": {
   "display_name": "Python CSCE479 (tensorflow-env)",
   "language": "python",
   "name": "tensorflow-env"
  },
  "language_info": {
   "codemirror_mode": {
    "name": "ipython",
    "version": 3
   },
   "file_extension": ".py",
   "mimetype": "text/x-python",
   "name": "python",
   "nbconvert_exporter": "python",
   "pygments_lexer": "ipython3",
   "version": "3.9.7"
  }
 },
 "nbformat": 4,
 "nbformat_minor": 5
}
