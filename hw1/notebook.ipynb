{
 "cells": [
  {
   "cell_type": "code",
   "execution_count": null,
   "metadata": {},
   "outputs": [],
   "source": [
    "import tensorflow as tf \n",
    "import tensorflow_datasets as tfds # to load training data\n"
   ]
  },
  {
   "cell_type": "code",
   "execution_count": null,
   "metadata": {},
   "outputs": [],
   "source": [
    "!pip install tensorflow_datasets"
   ]
  },
  {
   "cell_type": "code",
   "execution_count": null,
   "metadata": {},
   "outputs": [],
   "source": [
    "import tensorflow_datasets as tfds\n",
    "DATA_DIR=\"./tensorflow-datasets\"\n"
   ]
  },
  {
   "cell_type": "code",
   "execution_count": null,
   "metadata": {},
   "outputs": [],
   "source": [
    "\n",
    "tf.random.set_seed(1024)\n",
    "\n",
    "\n",
    "\n",
    "#hyperparameter 1 batch_size = 8, batch_size = 32\n",
    "#hyperparameter 2 optimizer=adam or sgd with default learning rate\n",
    "early_stopping_callback = tf.keras.callbacks.EarlyStopping(patience=3, restore_best_weights=True)\n",
    "csv_logger = tf.keras.callbacks.CSVLogger(filename=\"experiment_log.csv\")\n",
    "model.compile(optimizer=tf.keras.optimizers.Adam(),loss=tf.keras.losses.SparseCategoricalCrossentropy(from_logits=True),metrics=['accuracy'])\n",
    "\n",
    "\n",
    "model.summary()\n"
   ]
  },
  {
   "cell_type": "code",
   "execution_count": null,
   "metadata": {},
   "outputs": [],
   "source": [
    "batch_size = 32\n",
    "\n",
    "train_ds= tfds.load('fashion_mnist', split=\"train[:80%]\",data_dir=DATA_DIR, shuffle_files=False).map(lambda x: (tf.cast(x['image'],tf.float32)/255.0, x['label'])).batch(batch_size)\n",
    "val_ds= tfds.load('fashion_mnist', split=\"train[-20%:]\",data_dir=DATA_DIR, shuffle_files=False).map(lambda x: (tf.cast(x['image'],tf.float32)/255.0, x['label'])).batch(batch_size)\n",
    "\n",
    "# val_images,val_labels = tfds.load('fashion_mnist',split=\"train[-20%:]\",shuffle_files=False,as_supervised=True).batch(batch_size)\n",
    "\n",
    "\n",
    "\n",
    "\n"
   ]
  },
  {
   "cell_type": "code",
   "execution_count": null,
   "metadata": {},
   "outputs": [],
   "source": []
  },
  {
   "cell_type": "code",
   "execution_count": null,
   "metadata": {},
   "outputs": [],
   "source": []
  },
  {
   "cell_type": "code",
   "execution_count": null,
   "metadata": {},
   "outputs": [
    {
     "name": "stdout",
     "output_type": "stream",
     "text": [
      "Working on model arch 1,batch_8,0.01,regularizer]\n",
      "Epoch 1/2\n",
      "6000/6000 [==============================] - 7s 1ms/step - loss: 3.0484 - accuracy: 0.5879 - val_loss: 2.8157 - val_accuracy: 0.6453\n",
      "Epoch 2/2\n",
      "3543/6000 [================>.............] - ETA: 2s - loss: 2.8578 - accuracy: 0.61"
     ]
    }
   ],
   "source": [
    "%run main.py"
   ]
  },
  {
   "cell_type": "code",
   "execution_count": null,
   "metadata": {},
   "outputs": [],
   "source": []
  },
  {
   "cell_type": "code",
   "execution_count": 5,
   "metadata": {},
   "outputs": [
    {
     "ename": "NameError",
     "evalue": "name 'ds' is not defined",
     "output_type": "error",
     "traceback": [
      "\u001b[0;31m---------------------------------------------------------------------------\u001b[0m",
      "\u001b[0;31mNameError\u001b[0m                                 Traceback (most recent call last)",
      "Cell \u001b[0;32mIn[5], line 1\u001b[0m\n\u001b[0;32m----> 1\u001b[0m \u001b[38;5;28;01mfor\u001b[39;00m x \u001b[38;5;129;01min\u001b[39;00m \u001b[43mds\u001b[49m:\n\u001b[1;32m      2\u001b[0m     \u001b[38;5;28mprint\u001b[39m(x[\u001b[38;5;241m1\u001b[39m])\n\u001b[1;32m      3\u001b[0m     \u001b[38;5;28;01mbreak\u001b[39;00m\n",
      "\u001b[0;31mNameError\u001b[0m: name 'ds' is not defined"
     ]
    }
   ],
   "source": [
    "for x in ds:\n",
    "    print(x[1])\n",
    "    break"
   ]
  },
  {
   "cell_type": "code",
   "execution_count": null,
   "metadata": {},
   "outputs": [],
   "source": [
    "results = pd.read_csv(\"logs/exp1.csv\")"
   ]
  },
  {
   "cell_type": "code",
   "execution_count": null,
   "metadata": {},
   "outputs": [],
   "source": [
    "results.info()"
   ]
  },
  {
   "cell_type": "code",
   "execution_count": null,
   "metadata": {},
   "outputs": [],
   "source": [
    "import seaborn as sns\n",
    "import matplotlib.pyplot as plt\n",
    "results['regularizer_yes_no'] = results['regularizer'].apply(lambda x: \"Yes\" if x else \"No\") \n",
    "sns.boxplot(x='regularizer_yes_no', y='test_accuracy', data=results)\n",
    "\n",
    "plt.xlabel('Used regularizer?')   # Change x-axis label\n",
    "plt.ylabel('Test accuracy')   # Change y-axis label\n",
    "plt.title('Effects of use of L1 regularizer in test accuracy')  # Set plot title\n",
    "# Show the plot\n",
    "plt.savefig(\"l1_regularizer_test_accuracy.pdf\")\n",
    "plt.show()"
   ]
  },
  {
   "cell_type": "code",
   "execution_count": null,
   "metadata": {},
   "outputs": [],
   "source": [
    "import seaborn as sns\n",
    "import matplotlib.pyplot as plt\n",
    "sns.boxplot(x='regularizer_yes_no', y='converged_on', data=results)\n",
    "\n",
    "plt.xlabel('Used regularizer?')   # Change x-axis label\n",
    "plt.ylabel('Epochs')   # Change y-axis label\n",
    "plt.title('Effects of use of L1 regularizer in model convergance')  # Set plot title\n",
    "plt.savefig(\"l1_regularizer_epoch_convergence.pdf\")\n",
    "\n",
    "# Show the plot\n",
    "plt.show()"
   ]
  },
  {
   "cell_type": "code",
   "execution_count": null,
   "metadata": {},
   "outputs": [],
   "source": [
    "import seaborn as sns\n",
    "import matplotlib.pyplot as plt\n",
    "sns.boxplot(x='optimizer', y='converged_on', data=results[results['regularizer']==False])\n",
    "\n",
    "plt.xlabel('Optimizer used')   # Change x-axis label\n",
    "plt.ylabel('Epochs')   # Change y-axis label\n",
    "plt.title('Effects of use of optimizer in model convergance when regularizer is not used.')  # Set plot title\n",
    "# plt.savefig(\"l1_regularizer_epoch_convergence.pdf\")\n",
    "\n",
    "# Show the plot\n",
    "plt.show()"
   ]
  },
  {
   "cell_type": "code",
   "execution_count": null,
   "metadata": {},
   "outputs": [],
   "source": [
    "import seaborn as sns\n",
    "import matplotlib.pyplot as plt\n",
    "sns.boxplot(x='batch_size', y='test_accuracy', data=results[results['optimizer']=='rmsprop'])\n",
    "\n",
    "plt.xlabel('Batch size')   # Change x-axis label\n",
    "plt.ylabel('Test accuracy')   # Change y-axis label\n",
    "plt.title('Effects of batch size in test accuracy for RMSProp optimizer')  # Set plot title\n",
    "plt.savefig(\"batch_size_test_accuracy_rmsprop.pdf\")\n",
    "\n",
    "# Show the plot\n",
    "plt.show()"
   ]
  },
  {
   "cell_type": "code",
   "execution_count": null,
   "metadata": {},
   "outputs": [],
   "source": [
    "import seaborn as sns\n",
    "import matplotlib.pyplot as plt\n",
    "sns.boxplot(x='batch_size', y='test_accuracy', data=results[results['optimizer']=='adam'])\n",
    "\n",
    "plt.xlabel('Batch size')   # Change x-axis label\n",
    "plt.ylabel('Test accuracy')   # Change y-axis label\n",
    "plt.title('Effects of batch size in test accuracy for Adam optimizer')  # Set plot title\n",
    "plt.savefig(\"batch_size_test_accuracy_adam.pdf\")\n",
    "\n",
    "# Show the plot\n",
    "plt.show()"
   ]
  },
  {
   "cell_type": "code",
   "execution_count": null,
   "metadata": {},
   "outputs": [],
   "source": [
    "import seaborn as sns\n",
    "import matplotlib.pyplot as plt\n",
    "sns.boxplot(x='batch_size', y='test_accuracy', data=results[results['regularizer']==False])\n",
    "\n",
    "plt.xlabel('Batch size')   # Change x-axis label\n",
    "plt.ylabel('Test accuracy')   # Change y-axis label\n",
    "plt.title('Effects of batch size in test accuracy across whole experiments.')  # Set plot title\n",
    "plt.savefig(\"batch_size_test_accuracy.pdf\")\n",
    "\n",
    "# Show the plot\n",
    "plt.show()"
   ]
  },
  {
   "cell_type": "code",
   "execution_count": null,
   "metadata": {},
   "outputs": [],
   "source": [
    "optimizers = {'adam':\"adam\",'rmsprop':\"rmsprop\"}\n",
    "batch_sizes = {'batch_8':8, 'batch_32':32}\n",
    "regularizers = {'regularizer':True,'no_regularizer': False}\n",
    "for batch_arg,batch_size_val in batch_sizes.items():\n",
    "    for optim_arg,optimizer_var in optimizers.items():\n",
    "        for regularizer_arg,use_regularizer in regularizers.items():\n",
    "            prefix = f\"{batch_arg}_{optim_arg}_{regularizer_arg}\"\n",
    "            evaluation_result = pickle.load(open(f\"logs/{prefix}_evaluation_results.dat\",\"rb\"))\n",
    "            train_history = pd.read_csv(f\"logs/{prefix}_experiment_log.csv\")\n",
    "            fig,axs = plt.subplots()\n",
    "            axs.plot(train_history['loss'],label=\"Training loss\")\n",
    "            axs.plot(train_history['val_loss'],label=\"Validation loss\")\n",
    "            plt.title(f\"Training history for batch size={batch_size_val}, optimizer={optimizer_var}, regularizer={use_regularizer}.\\n Test accuracy={evaluation_result[0]} on 1000 samples\")\n",
    "            plt.xlabel(\"Epochs\")\n",
    "            plt.ylabel(\"Loss\")\n",
    "            plt.legend()\n",
    "            plt.savefig(f\"{prefix}_training_history.pdf\")\n",
    "            plt.show()\n",
    "            \n",
    "            \n",
    "            \n",
    "\n"
   ]
  },
  {
   "cell_type": "code",
   "execution_count": null,
   "metadata": {},
   "outputs": [],
   "source": [
    "results['labels'] =results.apply(lambda x:f\"batch={x['batch_size']},regularizer={x['regularizer_yes_no']},optimizer={x['optimizer']}\" , axis=1)\n"
   ]
  },
  {
   "cell_type": "code",
   "execution_count": null,
   "metadata": {},
   "outputs": [],
   "source": [
    "fig,ax = plt.subplots(figsize=(10,4))\n",
    "sns.barplot(y='test_accuracy',x='labels',data=results,ax=ax)\n",
    "plt.show()"
   ]
  },
  {
   "cell_type": "code",
   "execution_count": null,
   "metadata": {},
   "outputs": [],
   "source": []
  }
 ],
 "metadata": {
  "kernelspec": {
   "display_name": "Python CSCE479 (tensorflow-env)",
   "language": "python",
   "name": "tensorflow-env"
  },
  "language_info": {
   "codemirror_mode": {
    "name": "ipython",
    "version": 3
   },
   "file_extension": ".py",
   "mimetype": "text/x-python",
   "name": "python",
   "nbconvert_exporter": "python",
   "pygments_lexer": "ipython3",
   "version": "3.9.7"
  }
 },
 "nbformat": 4,
 "nbformat_minor": 4
}
